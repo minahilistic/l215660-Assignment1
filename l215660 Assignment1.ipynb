{
  "nbformat": 4,
  "nbformat_minor": 0,
  "metadata": {
    "colab": {
      "provenance": [],
      "collapsed_sections": []
    },
    "kernelspec": {
      "name": "python3",
      "display_name": "Python 3"
    },
    "language_info": {
      "name": "python"
    }
  },
  "cells": [
    {
      "cell_type": "markdown",
      "source": [
        "# Introduction To Data Science – Assignment 1\n",
        "\n",
        "---\n",
        "\n",
        "### Sections A – B – C – D\n",
        "\n",
        "---\n",
        "\n",
        "***Instructions***\n",
        "\n",
        "Due Date: Sunday 18th September 2022 – 11:59PM\n",
        "\n",
        "Name the file in the format Lyyxxxx and save it as .ipynb (e.g. L201234.ipynb)\n",
        "\n",
        "Submission will be taken on **GitHub and Google Classroom (submit the .ipynb file)** - Instructions to upload onto GitHub are provided in the link https://docs.google.com/document/d/1BR1ULOGeGWJVU6Rr6Qty1FR-quVRZyRvQGII6nEs-wo/edit?usp=sharing\n",
        "\n",
        "After uploading and submitting the .ipynb file onto Google Classroom, also private comment the link to the GitHub repository.\n",
        "\n",
        "All source files needed to complete this assignment can be found on the following Google Drive link https://drive.google.com/drive/folders/1VrkaVcExGWqilSeh50WZe4gUBjmUiJ9b?usp=sharing\n",
        "\n",
        "TA Emails\n",
        "\n",
        "Section A, C - Muhammad Maarij l192347@lhr.nu.edu.pk\n",
        "\n",
        "Section B, D - Hira Ijaz l192377@lhr.nu.edu.pk\n",
        "\n",
        "Happy Coding 😊\n",
        "\n",
        "---"
      ],
      "metadata": {
        "id": "TWWLTwYZorzC"
      }
    },
    {
      "cell_type": "markdown",
      "source": [
        "---\n",
        "## Question 1\n",
        "---"
      ],
      "metadata": {
        "id": "arB_0r9H0jjC"
      }
    },
    {
      "cell_type": "markdown",
      "source": [
        "Define a procedure called \"check_input\" that takes an input as a square list of lists (2D Matrix of N x N) and returns a boolen \"true\" if the input is valid or \"false\" otherwise, according to the following criteria.\n",
        "\n",
        "1. Each coloumn must contain numbers from between 1 and N, with no duplicates.\n",
        "2. Each row must contain numbers from between 1 and N, with no duplicates."
      ],
      "metadata": {
        "id": "qHPTNDy30n99"
      }
    },
    {
      "cell_type": "code",
      "source": [
        "# define procedure here\n",
        "\n",
        "# Function To check input\n",
        "def check_input(arr):  # Function To check input\n",
        "    row_no = 0\n",
        "    col_no = 0\n",
        "    x = len(arr[0])\n",
        "    #for column\n",
        "    for j in range(0,3): \n",
        "       \n",
        "        for i in range(1,3):\n",
        "            if(arr[0][j]==arr[i][j] or type(arr[i][j])==str):\n",
        "                col_no = col_no + 1\n",
        "           #for row      \n",
        "    for i in range(0,x): \n",
        "       \n",
        "        for j in range(1,x):\n",
        "            if(arr[i][0]==arr[i][j] or type(arr[i][j])==str):\n",
        "                row_no = row_no + 1 \n",
        "                #case for bool  \n",
        "    if(row_no==0 and col_no==0):\n",
        "\n",
        "        return True\n",
        "    else:\n",
        "        return False"
      ],
      "metadata": {
        "id": "S2_Zic322Lt7"
      },
      "execution_count": 4,
      "outputs": []
    },
    {
      "cell_type": "code",
      "source": [
        "# run this block to test code after defining the procedure\n",
        "\n",
        "\n",
        "\n",
        "test1 = [[1, 2, 3],\n",
        "        [2, 3, 1],\n",
        "        [3, 1, 2]]\n",
        "\n",
        "test2 = [[1, 2, 3, 4],\n",
        "        [2, 3, 1, 3],\n",
        "        [3, 1, 2, 3],\n",
        "        [4, 4, 4, 4]]\n",
        "\n",
        "test3 = [['a', 'b', 'c'],\n",
        "        ['b', 'c', 'a'],\n",
        "        ['c', 'a', 'b']]\n",
        "\n",
        "def check_input(arr):  # Function To check input\n",
        "    row_no = 0\n",
        "    col_no = 0\n",
        "    x = len(arr[0])\n",
        "    for j in range(0,3):  #for column\n",
        "        for i in range(1,3):\n",
        "            if(arr[0][j]==arr[i][j] or type(arr[i][j])==str):\n",
        "                col_no = col_no + 1\n",
        "    for i in range(0,x):  #for row\n",
        "        for j in range(1,x):\n",
        "            if(arr[i][0]==arr[i][j] or type(arr[i][j])==str):\n",
        "                row_no = row_no + 1   \n",
        "    if(row_no==0 and col_no==0): #case for bool\n",
        "        return True\n",
        "    else:\n",
        "        return False\n",
        "\n",
        "print(check_input(test1)) # must return true\n",
        "print(check_input(test2)) # must return false\n",
        "print(check_input(test3)) # must return false"
      ],
      "metadata": {
        "id": "wdL9MWgq2ZbP",
        "colab": {
          "base_uri": "https://localhost:8080/"
        },
        "outputId": "1cfcba30-2ff8-4252-8fd7-2555e3c3672e"
      },
      "execution_count": 3,
      "outputs": [
        {
          "output_type": "stream",
          "name": "stdout",
          "text": [
            "True\n",
            "False\n",
            "False\n"
          ]
        }
      ]
    },
    {
      "cell_type": "markdown",
      "source": [
        "---\n",
        "## Question 2\n",
        "---"
      ],
      "metadata": {
        "id": "4RVTlnhWqOUC"
      }
    },
    {
      "cell_type": "code",
      "source": [],
      "metadata": {
        "id": "AhqV3Y3JwYJr"
      },
      "execution_count": null,
      "outputs": []
    },
    {
      "cell_type": "markdown",
      "source": [
        "**Part A** - Import the file \"StudentMarkSheet.csv\" as a Pandas DataFrame and print the information for the dataframe"
      ],
      "metadata": {
        "id": "Uyc7JPtNt0pR"
      }
    },
    {
      "cell_type": "code",
      "execution_count": 6,
      "metadata": {
        "id": "wYrt7e6Xop2P",
        "colab": {
          "base_uri": "https://localhost:8080/"
        },
        "outputId": "56a616b4-b6c6-436c-8cd5-72cfbd088ccc"
      },
      "outputs": [
        {
          "output_type": "stream",
          "name": "stdout",
          "text": [
            "        Student name  Exam name   Exam date  Marks\n",
            "0       James Walker    Biology  05/06/2016   31.0\n",
            "1      Velma Clemons    Biology  05/06/2016   43.0\n",
            "2     Kibo Underwood    Biology  05/06/2016   81.0\n",
            "3        Louis Mcgee    Biology  05/06/2016   11.0\n",
            "4       Phyllis Paul    Biology  05/06/2016   18.0\n",
            "..               ...        ...         ...    ...\n",
            "195       Yen Bowers  Sociology  21/06/2016   52.0\n",
            "196        Ryan Pena  Sociology  21/06/2016   16.0\n",
            "197  Portia Hamilton  Sociology  21/06/2016   34.0\n",
            "198  Sydnee Chambers  Sociology  21/06/2016   76.0\n",
            "199      Stacy Small  Sociology  21/06/2016   96.0\n",
            "\n",
            "[200 rows x 4 columns]\n"
          ]
        }
      ],
      "source": [
        "from dataclasses import dataclass\n",
        "import pandas as p\n",
        "#import numpy as n\n",
        "dataa=p.read_csv(\"StudentMarkSheet.csv\")\n",
        "print(dataa)"
      ]
    },
    {
      "cell_type": "markdown",
      "source": [
        "**Part B** - Remove any rows that do not contain all the data. Also print the following information.\n",
        "\n",
        "1. Number of rows before\n",
        "2. Number of rows containing null data\n",
        "3. Number of rows after"
      ],
      "metadata": {
        "id": "jIaMvgcft_i0"
      }
    },
    {
      "cell_type": "code",
      "source": [
        "import pandas as p\n",
        "import numpy as n\n",
        "import csv\n",
        "\n",
        "reader=csv.reader(open(\"StudentMarkSheet.csv\"))\n",
        "no_oflines=len(list(reader))-1 #With Null\n",
        "print(no_oflines)\n",
        "dataa=p.read_csv(\"StudentMarkSheet.csv\")\n",
        "dif1 = dataa.dropna()  #Without Null\n",
        "print(dif1)\n",
        "NULL=len(dif1)\n",
        "print(NULL)\n",
        "x=no_oflines-NULL #N0. of null lines\n",
        "print(x)"
      ],
      "metadata": {
        "id": "_ov_SWdxuZUm",
        "colab": {
          "base_uri": "https://localhost:8080/"
        },
        "outputId": "356462be-ddf6-43c0-ad61-7cdb2e0ec32b"
      },
      "execution_count": 9,
      "outputs": [
        {
          "output_type": "stream",
          "name": "stdout",
          "text": [
            "200\n",
            "        Student name  Exam name   Exam date  Marks\n",
            "0       James Walker    Biology  05/06/2016   31.0\n",
            "1      Velma Clemons    Biology  05/06/2016   43.0\n",
            "2     Kibo Underwood    Biology  05/06/2016   81.0\n",
            "3        Louis Mcgee    Biology  05/06/2016   11.0\n",
            "4       Phyllis Paul    Biology  05/06/2016   18.0\n",
            "..               ...        ...         ...    ...\n",
            "195       Yen Bowers  Sociology  21/06/2016   52.0\n",
            "196        Ryan Pena  Sociology  21/06/2016   16.0\n",
            "197  Portia Hamilton  Sociology  21/06/2016   34.0\n",
            "198  Sydnee Chambers  Sociology  21/06/2016   76.0\n",
            "199      Stacy Small  Sociology  21/06/2016   96.0\n",
            "\n",
            "[196 rows x 4 columns]\n",
            "196\n",
            "4\n"
          ]
        }
      ]
    },
    {
      "cell_type": "markdown",
      "source": [
        "**Part C** - Print all the marks along with the subject for the student named \"James Walker\""
      ],
      "metadata": {
        "id": "2kd9zAX6wkXM"
      }
    },
    {
      "cell_type": "code",
      "source": [
        "print(dataa[dataa['Student name']=='James Walker']) #specific student named james walker"
      ],
      "metadata": {
        "id": "N0HWJN-PwuSo",
        "colab": {
          "base_uri": "https://localhost:8080/"
        },
        "outputId": "6d005a46-af92-4daf-f71f-21149af10a26"
      },
      "execution_count": 10,
      "outputs": [
        {
          "output_type": "stream",
          "name": "stdout",
          "text": [
            "     Student name    Exam name   Exam date  Marks\n",
            "0    James Walker      Biology  05/06/2016   31.0\n",
            "42   James Walker    Chemistry  15/06/2016   61.0\n",
            "71   James Walker  Mathematics  29/07/2016   23.0\n",
            "150  James Walker      Physics  10/06/2016  100.0\n",
            "180  James Walker    Sociology  21/06/2016   73.0\n"
          ]
        }
      ]
    },
    {
      "cell_type": "markdown",
      "source": [
        "---\n",
        "## Question 3\n",
        "---"
      ],
      "metadata": {
        "id": "ts8Y1EXmwzhf"
      }
    },
    {
      "cell_type": "markdown",
      "source": [
        "**Part A** - From the DataFrame created in Question 2, calculate the average marks for each subject"
      ],
      "metadata": {
        "id": "PJENm_hpw3GQ"
      }
    },
    {
      "cell_type": "code",
      "source": [
        "avgbio=dataa[dataa[\"Exam name\"]==\"Biology\"]\n",
        "avgbio=avgbio[\"Marks\"]\n",
        "total=avgbio.sum()\n",
        "length=len(avgbio)\n",
        "a1=total/length\n",
        "print(\"Biology Average marks: \",a1) #Average for all subjects\n",
        "\n",
        "avgchem=dataa[dataa[\"Exam name\"]==\"Chemistry\"]\n",
        "avgchem=avgchem[\"Marks\"]\n",
        "total=avgchem.sum()\n",
        "length=len(avgchem)\n",
        "b1=total/length\n",
        "print(\"Chemistry Average marks: \",b1)\n",
        "\n",
        "\n",
        "avgphy=dataa[dataa[\"Exam name\"]==\"Physics\"]\n",
        "avgphy=avgphy[\"Marks\"]\n",
        "total=avgphy.sum()\n",
        "length=len(avgphy)\n",
        "c1=total/length\n",
        "print(\"Physics Average marks: \",c1)\n",
        "\n",
        "\n",
        "avgsoc=dataa[dataa[\"Exam name\"]==\"Sociology\"]\n",
        "avgsoc=avgsoc[\"Marks\"]\n",
        "total=avgsoc.sum()\n",
        "length=len(avgsoc)\n",
        "d1=total/length\n",
        "print(\"Sociology Average marks: \",d1)\n",
        "\n",
        "\n",
        "avgmath=dataa[dataa[\"Exam name\"]==\"Mathematics\"]\n",
        "avgmath=avgmath[\"Marks\"]\n",
        "total=avgmath.sum()\n",
        "length=len(avgmath)\n",
        "e1=total/length\n",
        "print(\"Math Average marks: \",e1)\n",
        "\n",
        "\n",
        "avgphil=dataa[dataa[\"Exam name\"]==\"Philosophy\"]\n",
        "avgphil=avgphil[\"Marks\"]\n",
        "total=avgphil.sum()\n",
        "length=len(avgphil)\n",
        "f1=total/length\n",
        "print(\"Philosophy Average marks: \",f1)"
      ],
      "metadata": {
        "id": "AxhCtST5xS3L",
        "colab": {
          "base_uri": "https://localhost:8080/"
        },
        "outputId": "323d20ff-46a4-454c-ee73-ec6203491912"
      },
      "execution_count": 11,
      "outputs": [
        {
          "output_type": "stream",
          "name": "stdout",
          "text": [
            "Biology Average marks:  47.89473684210526\n",
            "Chemistry Average marks:  48.7037037037037\n",
            "Physics Average marks:  51.76190476190476\n",
            "Sociology Average marks:  56.026315789473685\n",
            "Math Average marks:  47.648648648648646\n",
            "Philosophy Average marks:  46.026315789473685\n"
          ]
        }
      ]
    },
    {
      "cell_type": "markdown",
      "source": [
        "**Part B** - Using the averages you just calculated, plot a Bar Graph showing the average marks of each subject"
      ],
      "metadata": {
        "id": "NDlaA7hHxUBc"
      }
    },
    {
      "cell_type": "code",
      "source": [
        "\n",
        "\n",
        "\n",
        "import matplotlib.pyplot as plot\n",
        "subject=[\"Biology\",\"Chemistry\",\"Physics\",\"Sociology\",\"Maths\",\"Philosophy\"]\n",
        "average=[a1,b1,c1,d1,e1,f1]\n",
        "plot.bar(subject,average,fc=\"blue\") #blue colored bar graph\n",
        "plot.show()"
      ],
      "metadata": {
        "id": "LWoPFZBOyyNn",
        "colab": {
          "base_uri": "https://localhost:8080/",
          "height": 265
        },
        "outputId": "70f7ac17-6560-4d09-9325-625110b6c023"
      },
      "execution_count": 12,
      "outputs": [
        {
          "output_type": "display_data",
          "data": {
            "text/plain": [
              "<Figure size 432x288 with 1 Axes>"
            ],
            "image/png": "[encoded data removed]"
          },
          "metadata": {
            "needs_background": "light"
          }
        }
      ]
    },
    {
      "cell_type": "markdown",
      "source": [
        "---\n",
        "## Question 4\n",
        "---"
      ],
      "metadata": {
        "id": "dWlOSOIs6d1R"
      }
    },
    {
      "cell_type": "markdown",
      "source": [
        "**Part A** - Import the file \"CatData.csv\" and preprocess it to remove any null values"
      ],
      "metadata": {
        "id": "b4s-pN4v6kgb"
      }
    },
    {
      "cell_type": "code",
      "source": [
        "import pandas as pan\n",
        "dataa1=pan.read_csv(\"CatData.csv\")\n",
        "print(dataa1.dropna()) #NULL values will be excluded"
      ],
      "metadata": {
        "id": "mvZ3xrBV9b1s",
        "colab": {
          "base_uri": "https://localhost:8080/"
        },
        "outputId": "b2e44b01-8c77-4c96-cf37-5f65e6ce59fa"
      },
      "execution_count": 17,
      "outputs": [
        {
          "output_type": "stream",
          "name": "stdout",
          "text": [
            "     Tail Length (cm)  Mass (kg)\n",
            "0                18.1      3.750\n",
            "1                18.6      3.800\n",
            "2                19.5      3.250\n",
            "3                19.3      3.450\n",
            "4                19.0      3.650\n",
            "..                ...        ...\n",
            "337              20.7      4.000\n",
            "338              20.2      3.400\n",
            "339              19.3      3.775\n",
            "340              21.0      4.100\n",
            "341              19.8      3.775\n",
            "\n",
            "[342 rows x 2 columns]\n"
          ]
        }
      ]
    },
    {
      "cell_type": "markdown",
      "source": [
        "**Part B** - Identify the independant and dependant variables (comment answer below)"
      ],
      "metadata": {
        "id": "bWxuB3ep9SWA"
      }
    },
    {
      "cell_type": "code",
      "source": [
        "# dependent  variable (Y): Mass      ( kg )\n",
        "# independent  variable (X): Tail Length      ( cm )"
      ],
      "metadata": {
        "id": "TS9tvuRt9cWr"
      },
      "execution_count": null,
      "outputs": []
    },
    {
      "cell_type": "markdown",
      "source": [
        "**Part C** - Create a linear regression model using sklearn and fit it to the data you just imported\n"
      ],
      "metadata": {
        "id": "xPHVA3cX7uk9"
      }
    },
    {
      "cell_type": "code",
      "source": [
        "\n",
        "import numpy as npy\n",
        "import matplotlib.pyplot as plot\n",
        "from sklearn import linear_model\n",
        "a2= int(len (dataa1)*0.8)\n",
        "train=dataa1[:a2] #0 to range\n",
        "test1=dataa1[a2:] #range till end\n",
        "\n",
        "reg1=linear_model.LinearRegression()\n",
        "train1=npy.array(train[[\"Tail Length (cm)\"]]) #Independent Variable\n",
        "train2=npy.array(train[[\"Mass (kg)\"]]) #Dependent Variable\n",
        "reg1.fit(train1,train2)\n",
        "slope=reg1.coef_\n",
        "intercept=reg1.intercept_"
      ],
      "metadata": {
        "id": "WYVNRotH9cyo"
      },
      "execution_count": 18,
      "outputs": []
    },
    {
      "cell_type": "markdown",
      "source": [
        "**Part D** - Print the values for slope and y-intercept"
      ],
      "metadata": {
        "id": "0QMipKhb830G"
      }
    },
    {
      "cell_type": "code",
      "source": [
        "coef = reg1.coef_\n",
        "intr1 = reg1.intercept_\n",
        "print(\"Slope: \", coef)\n",
        "print(\"Intercept: \",intr1)"
      ],
      "metadata": {
        "id": "R7cvi3KB9dJh",
        "colab": {
          "base_uri": "https://localhost:8080/"
        },
        "outputId": "6f95db0a-1aa8-4f67-c9a1-f526012390ed"
      },
      "execution_count": 19,
      "outputs": [
        {
          "output_type": "stream",
          "name": "stdout",
          "text": [
            "Slope:  [[0.48913766]]\n",
            "Intercept:  [-5.57328662]\n"
          ]
        }
      ]
    },
    {
      "cell_type": "markdown",
      "source": [
        "**Part E** - Plot a scatter graph of the original data and a regression line on the same figure (example with dummy data shown below)\n",
        "\n",
        "![](https://drive.google.com/uc?export=view&id=1o_NAsNjfx7zAh9m-UjvWB3rta6uraKdY)"
      ],
      "metadata": {
        "id": "IIq-BQYp_i33"
      }
    },
    {
      "cell_type": "code",
      "source": [
        "plot.xlabel(\"Tail Length (cm)\")\n",
        "plot.ylabel(\"Mass (kg)\")\n",
        "plot.title(\"Tail Length vs Mass\")\n",
        "plot.scatter(train[\"Tail Length (cm)\"],train[\"Mass (kg)\"])\n",
        "plot.plot(train1,train1*coef[0]+intr1, color = 'yellow')\n",
        "plot.show()"
      ],
      "metadata": {
        "id": "jhz8gTYt_lCn",
        "colab": {
          "base_uri": "https://localhost:8080/",
          "height": 295
        },
        "outputId": "fca34a91-af5b-4622-bc4a-242172d5b974"
      },
      "execution_count": 20,
      "outputs": [
        {
          "output_type": "display_data",
          "data": {
            "text/plain": [
              "<Figure size 432x288 with 1 Axes>"
            ],
            "image/png": "[encoded data removed]"
          },
          "metadata": {
            "needs_background": "light"
          }
        }
      ]
    }
  ]
}